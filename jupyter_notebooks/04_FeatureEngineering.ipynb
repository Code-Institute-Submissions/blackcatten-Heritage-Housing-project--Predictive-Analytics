{
 "cells": [
  {
   "cell_type": "markdown",
   "metadata": {},
   "source": [
    "# *Feature Engineering Notebook*\n",
    "* Objectives\n",
    "    * Engineer features for Classification, Regression and Cluster models\n",
    "* Inputs\n",
    "    * inputs/datasets/cleaned/TrainSet.csv\n",
    "    * inputs/datasets/cleaned/TestSet.csv\n",
    "* Outputs\n",
    "    * generate a list with variables to engineer\n",
    "* Conclusions"
   ]
  },
  {
   "cell_type": "markdown",
   "metadata": {},
   "source": []
  }
 ],
 "metadata": {
  "kernelspec": {
   "display_name": "Python 3",
   "language": "python",
   "name": "python3"
  },
  "language_info": {
   "name": "python",
   "version": "3.8.18"
  }
 },
 "nbformat": 4,
 "nbformat_minor": 2
}
